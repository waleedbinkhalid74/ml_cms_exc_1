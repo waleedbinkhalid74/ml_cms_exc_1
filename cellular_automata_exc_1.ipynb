{
 "cells": [
  {
   "cell_type": "markdown",
   "id": "e496e2b3",
   "metadata": {},
   "source": [
    "# Machine Learning in Crowd Modelling and Simulation"
   ]
  },
  {
   "cell_type": "markdown",
   "id": "a05ada37",
   "metadata": {},
   "source": [
    "In this task we implement a crowd simulation model using the cellular automata approach.\n",
    "Our implementation can be run either by loading saved scenario files which are based on csv files or by the user detailing their own scenario.\n",
    "\n",
    "Before moving ahead we import the key packages. It is best to install the required packages as detailed in the\n",
    "`README.md` file with the help of the provided `requirements.txt` file."
   ]
  },
  {
   "cell_type": "code",
   "execution_count": 1,
   "id": "88de2354",
   "metadata": {},
   "outputs": [],
   "source": [
    "import numpy as np\n",
    "import matplotlib.pyplot as plt\n",
    "from visualization import visualize_state\n",
    "from utilities import scenario_loader, scenario_builder\n",
    "\n",
    "%reload_ext autoreload\n",
    "%autoreload 2"
   ]
  },
  {
   "cell_type": "markdown",
   "id": "501e85c9",
   "metadata": {},
   "source": [
    "## Task 1\n",
    "\n",
    "We will implement the basics of our environment and show the outlook in this section.\n",
    "First, if you wish to provide your own scenario then press no on the following cell block. Otherwise press yes and carry on."
   ]
  },
  {
   "cell_type": "code",
   "execution_count": 11,
   "id": "c5bcde3a",
   "metadata": {},
   "outputs": [
    {
     "name": "stdout",
     "output_type": "stream",
     "text": [
      "Do you want to load a scenario? (y/n)n\n",
      "Enter the size of the grid in the format: rows, columns: 5,5\n"
     ]
    },
    {
     "data": {
      "image/png": "[encoded data removed]",
      "text/plain": [
       "<Figure size 720x720 with 1 Axes>"
      ]
     },
     "metadata": {
      "needs_background": "light"
     },
     "output_type": "display_data"
    }
   ],
   "source": [
    "load_scenario_bool = input(\"Do you want to load a scenario? (y/n)\")\n",
    "    # Case if the user wishes to load a scenario saved in the scenario directory.\n",
    "if load_scenario_bool == 'y':\n",
    "    loaded_scenario = scenario_loader()\n",
    "elif load_scenario_bool == 'n':\n",
    "    custom_scneario = scenario_builder()"
   ]
  },
  {
   "cell_type": "markdown",
   "id": "924508d1",
   "metadata": {},
   "source": [
    "## Task 2"
   ]
  },
  {
   "cell_type": "markdown",
   "id": "c50145ce",
   "metadata": {},
   "source": [
    "### Initial Visualization of scenario for Task 2"
   ]
  },
  {
   "cell_type": "code",
   "execution_count": null,
   "id": "55ee3233",
   "metadata": {},
   "outputs": [],
   "source": []
  },
  {
   "cell_type": "code",
   "execution_count": 73,
   "id": "04afbd10",
   "metadata": {},
   "outputs": [
    {
     "data": {
      "text/plain": [
       "['task_1.csv']"
      ]
     },
     "execution_count": 73,
     "metadata": {},
     "output_type": "execute_result"
    }
   ],
   "source": []
  },
  {
   "cell_type": "markdown",
   "id": "ff7bfe57",
   "metadata": {},
   "source": [
    "## Task 3"
   ]
  },
  {
   "cell_type": "markdown",
   "id": "7010a788",
   "metadata": {},
   "source": [
    "## Task 4"
   ]
  },
  {
   "cell_type": "markdown",
   "id": "12e02207",
   "metadata": {},
   "source": [
    "## Task 5"
   ]
  },
  {
   "cell_type": "code",
   "execution_count": null,
   "id": "bbdcb77d",
   "metadata": {},
   "outputs": [],
   "source": []
  }
 ],
 "metadata": {
  "kernelspec": {
   "display_name": "Python 3",
   "language": "python",
   "name": "python3"
  },
  "language_info": {
   "codemirror_mode": {
    "name": "ipython",
    "version": 3
   },
   "file_extension": ".py",
   "mimetype": "text/x-python",
   "name": "python",
   "nbconvert_exporter": "python",
   "pygments_lexer": "ipython3",
   "version": "3.8.10"
  }
 },
 "nbformat": 4,
 "nbformat_minor": 5
}
