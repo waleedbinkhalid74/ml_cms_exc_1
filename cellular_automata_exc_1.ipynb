{
 "cells": [
  {
   "cell_type": "markdown",
   "metadata": {},
   "source": [
    "# Machine Learning in Crowd Modelling and Simulation"
   ]
  },
  {
   "cell_type": "markdown",
   "metadata": {},
   "source": [
    "In this task we implement a crowd simulation model using the cellular automata approach.\n",
    "Our implementation can be run either by loading saved scenario files which are based on csv files or by the user detailing their own scenario.\n",
    "\n",
    "Before moving ahead we import the key packages. It is best to install the required packages as detailed in the\n",
    "`README.md` file with the help of the provided `requirements.txt` file."
   ]
  },
  {
   "cell_type": "code",
   "execution_count": null,
   "metadata": {},
   "outputs": [],
   "source": [
    "import numpy as np\n",
    "import matplotlib.pyplot as plt\n",
    "import csv\n",
    "from utilities import parser_array2obj, execute_rimea_4\n",
    "from visualization import visualize_state\n",
    "from main import crowd_simulator\n",
    "from game_gui import start_game_gui\n",
    "from pathlib import Path\n",
    "import pandas as pd\n",
    "import os \n",
    "from shutil import copyfile\n",
    "\n",
    "%reload_ext autoreload\n",
    "%autoreload 2\n",
    "%matplotlib notebook"
   ]
  },
  {
   "cell_type": "markdown",
   "metadata": {},
   "source": [
    "# Some conventions\n",
    "Throughout this notebook and in the simulations we will follow some labelling conventions for clarity. These are listen in the table below:\n",
    "\n",
    "|Numerical Encoding|Description|Color Assignment in GUI and visualizations| |\n",
    "|---|---|---|---|\n",
    "|0|Empty Cell| <span style=\"color:blue\">Blue</span>.  ||\n",
    "|1|Pedestrian|  <span style=\"color:red\">Red</span>. | |\n",
    "|2|Obstacle| <span style=\"color:yellow\">Yellow</span>.  |   |\n",
    "|3|Target|  <span style=\"color:green\">Green</span>. ||"
   ]
  },
  {
   "cell_type": "markdown",
   "metadata": {},
   "source": [
    "\n",
    "# Task 1: The setup\n",
    "\n",
    "It is possible to execute the crowd simulator in two ways. The first is to simply execute the `main.py` file i.e. `python3 main.py` and then following the instructions on the CLI. The second method is to execute it by calling the appropriate function and methods in the jupyter notebook environment. In order to show the functionality of the simulator, we will first make use of the pygame GUI. In subsequent tasks, since we wish to show states and specific plots, we will use the jupyter notebook environment to run the simulations.\n",
    "\n",
    "Here the user has two options\n",
    "\n",
    "### Option 1: Load scenario\n",
    "If you wish to load a scenario then type y in the following cell block. A list of available scenarios will be printed. Enter the id number of the scenario you wish to load and this will be loaded into a variable.\n",
    "\n",
    "Please note that for the presaved scenario, the cell size have been scaled. This scaling is defined in the table below:\n",
    "\n",
    "|Scenario |Length of one cell in meters| |\n",
    "|---|---|---|\n",
    "|task_2.csv|1| |\n",
    "|task_3.csv|1|  |\n",
    "|task_4.csv|1|    |\n",
    "|Chicken Test|1|  |\n",
    "|RiMEA 1|0.4|  |\n",
    "|RiMEA 4|0.33|  |\n",
    "|RiMEA 6|0.5|  |\n",
    "|RiMEA 7|1|  |\n",
    "\n",
    "### Option 2: Make customer scenario\n",
    "If you wish to make own scenario then type n in the following cell block. You will be asked for the size of the grid you wish to generate. Enter the row and column numbers. Finally a GUI will pop up. You can make a scenario there. Type in `P` to add a pedestrian, `O` for object and `T` for target. Please note all of these need to be in **upper case**. If you wish for a cell to remain empty you can leave it as it is. Once you are finished simply close the GUI. The scenario will be saved in a variable for further processing. \n"
   ]
  },
  {
   "cell_type": "code",
   "execution_count": null,
   "metadata": {
    "scrolled": true
   },
   "outputs": [],
   "source": [
    "crowd_simulator()"
   ]
  },
  {
   "cell_type": "markdown",
   "metadata": {},
   "source": [
    "# Task 2: Single Pedestrian"
   ]
  },
  {
   "cell_type": "markdown",
   "metadata": {},
   "source": [
    "### The simulation\n",
    "We will now simulate the loaded scenario with our simple update step i.e. rudementary obstical avoidance and pedestrian repulsion. The scenario is such that we have a grid of 50x50 cells and a pedestrian at position (5,25) and a target at (25,25). Let us see how the pedestrian progresses.\n",
    "\n",
    "**NOTE: This simulation can also be executed using the pygame GUI. Simply select load scenario and select the task_1.csv scenario file.**\n",
    "The results will be visualized with the help of a matplotlib animation. The initial state of the scenario is shown below:"
   ]
  },
  {
   "cell_type": "code",
   "execution_count": null,
   "metadata": {},
   "outputs": [],
   "source": [
    "with open('./scenarios/task_2.csv', newline='') as csvfile:\n",
    "    task_2 = np.array(list(csv.reader(csvfile))).astype(int)\n",
    "    task_2 = parser_array2obj(task_2)\n",
    "visualize_state(task_2.to_array())"
   ]
  },
  {
   "cell_type": "markdown",
   "metadata": {},
   "source": [
    "**Let us simulate this for 25 steps and animate**"
   ]
  },
  {
   "cell_type": "code",
   "execution_count": null,
   "metadata": {},
   "outputs": [],
   "source": [
    "task_2.simulate(25)\n",
    "task_2.animate()"
   ]
  },
  {
   "cell_type": "markdown",
   "metadata": {},
   "source": [
    "### Observations\n",
    "\n",
    "In this simple case, we use the distance of cells to the target as our cost operator for the pedestrian to decide their next move. A visualization of the cost can be seen below:"
   ]
  },
  {
   "cell_type": "code",
   "execution_count": null,
   "metadata": {},
   "outputs": [],
   "source": [
    "fig = plt.figure()\n",
    "cost_task_2 = task_2.get_distance_to_target()\n",
    "plt.imshow(cost_task_2)\n",
    "plt.colorbar()\n",
    "plt.title(\"Distance to Target as a color map representation\")"
   ]
  },
  {
   "cell_type": "markdown",
   "metadata": {},
   "source": [
    "# Task 3: Pedestrian Interaction\n",
    "\n",
    "In this task we will show how pedestrians interact with each other in a  given scenario.\n",
    "In order to model the pedestrian interaction we use the following formula for modelling repulsion:\n",
    "\n",
    "### cost = $\\frac{1}{e(r^2 - r_{max}^2)}$"
   ]
  },
  {
   "cell_type": "code",
   "execution_count": null,
   "metadata": {},
   "outputs": [],
   "source": [
    "x = np.arange(0,10,0.1)\n",
    "y = 1/np.exp(x**2 - 1.5**2)\n",
    "fig, ax = plt.subplots(1,1)\n",
    "ax.plot(x,y)\n",
    "ax.set_ylabel('cost')\n",
    "ax.set_xlabel('distance between pedestrians')\n",
    "plt.show()"
   ]
  },
  {
   "cell_type": "code",
   "execution_count": null,
   "metadata": {},
   "outputs": [],
   "source": [
    "with open('./scenarios/task_3.csv', newline='') as csvfile:\n",
    "    task_3 = np.array(list(csv.reader(csvfile))).astype(int)\n",
    "    task_3 = parser_array2obj(task_3)\n",
    "visualize_state(task_3.to_array())"
   ]
  },
  {
   "cell_type": "code",
   "execution_count": null,
   "metadata": {
    "scrolled": false
   },
   "outputs": [],
   "source": [
    "task_3.simulate(50, dijkstra=False)\n",
    "task_3.animate() #10.6, 9.8"
   ]
  },
  {
   "cell_type": "markdown",
   "metadata": {},
   "source": [
    "# Task 4: Obstacle Avoidance "
   ]
  },
  {
   "cell_type": "markdown",
   "metadata": {},
   "source": [
    "### Without Obstacle Avoidance\n",
    "\n",
    "We see that as expected, without obstacle avoidance, the pedestrians simply break the obstacle barrier and go through it. This is ofcourse not natural behavior (unless the pedestrians are really strong ;) ) Hence we will apply some basic obstacle avoidance.\n",
    "\n",
    "Note that we conduct the bottleneck experiment with a lesser number of pedestrians as simulating 150 pedestrians was too expensive for our simulator."
   ]
  },
  {
   "cell_type": "code",
   "execution_count": null,
   "metadata": {},
   "outputs": [],
   "source": [
    "with open('./scenarios/task_4.csv', newline='') as csvfile:\n",
    "    task_4 = np.array(list(csv.reader(csvfile))).astype(int)\n",
    "    task_4 = parser_array2obj(task_4, obstacle_avoidance=False)\n",
    "visualize_state(task_4.to_array())"
   ]
  },
  {
   "cell_type": "code",
   "execution_count": null,
   "metadata": {},
   "outputs": [],
   "source": [
    "task_4.simulate(60, obstacle_avoidance=False)\n",
    "task_4.animate()"
   ]
  },
  {
   "cell_type": "markdown",
   "metadata": {},
   "source": [
    "### Rudementary Obstacle Avoidance\n",
    "\n",
    "We have now implemented some basic obstacle avoidance which is as simple as setting a rule that pedestrians should not step into a cell that is classified as an obstacle. This is done by assigning the obstacle cells with a very high cost. \n",
    "\n",
    "We can observe that now the pedestrians follow a more \"Natural\" behavior and do not barge through obstacles as they did before."
   ]
  },
  {
   "cell_type": "code",
   "execution_count": null,
   "metadata": {
    "scrolled": false
   },
   "outputs": [],
   "source": [
    "with open('./scenarios/task_4.csv', newline='') as csvfile:\n",
    "    task_4 = np.array(list(csv.reader(csvfile))).astype(int)\n",
    "    task_4 = parser_array2obj(task_4)\n",
    "visualize_state(task_4.to_array())"
   ]
  },
  {
   "cell_type": "code",
   "execution_count": null,
   "metadata": {
    "scrolled": false
   },
   "outputs": [],
   "source": [
    "task_4.simulate(60, dijkstra=True)\n",
    "task_4.animate()"
   ]
  },
  {
   "cell_type": "markdown",
   "metadata": {},
   "source": [
    "### The Chicken Test\n",
    "Rudementary obstacle avoidance implemented, we see how our simulator now performs on the chicken test with 1 pedestrian only."
   ]
  },
  {
   "cell_type": "code",
   "execution_count": null,
   "metadata": {},
   "outputs": [],
   "source": [
    "with open('./scenarios/chicken_test.csv', newline='') as csvfile:\n",
    "    chicken_test = np.array(list(csv.reader(csvfile))).astype(int)\n",
    "    chicken_test = parser_array2obj(chicken_test)\n",
    "visualize_state(chicken_test.to_array())"
   ]
  },
  {
   "cell_type": "markdown",
   "metadata": {},
   "source": [
    "**As expected, our poor pedestrian gets stuck in the trap because the cells simply have a cost which does not take into account how paths are connected.**"
   ]
  },
  {
   "cell_type": "code",
   "execution_count": null,
   "metadata": {},
   "outputs": [],
   "source": [
    "chicken_test.simulate(25, dijkstra=False)\n",
    "chicken_test.animate()"
   ]
  },
  {
   "cell_type": "markdown",
   "metadata": {},
   "source": [
    "### The Dijkstra's Algorithm\n",
    "We implement the Dijkstra's algorithm to flood the cells with utilitiy values starting from the targets i.e. targets have a cost of 0. \n",
    "\n",
    "This allows a kind of look ahead when we simulate our pedestrians since now we have also taken into account the obsticals. Essentially the entire grid is treated as a well connected bi-directional graph instead of the points where the obsticals exist. These cells are treated as unconnected nodes on the graph. This is shown below:\n",
    "\n",
    "<table>\n",
    "  <tr>\n",
    "    <td><img src=\"./figures/fully_connected.png\" width=270 height=480></td>\n",
    "    <td><img src=\"./figures/graph_with_obj.png\" width=270 height=480></td>\n",
    "  </tr>\n",
    "      <tr>\n",
    "    <td>Fully Connected Bi-Directional Graph</td>\n",
    "     <td>Bi-directional Graph with Obstacle </td>\n",
    "  </tr>\n",
    " </table>\n"
   ]
  },
  {
   "cell_type": "markdown",
   "metadata": {},
   "source": [
    "### Chicken Test Part 2: The dijkstra's algorithm\n",
    "We now plot the cell costs that are calculated with the help of the dijkstra's algorithm with the target cell(s) having a cost of 0. This is represented in the color map of the chicken test below"
   ]
  },
  {
   "cell_type": "code",
   "execution_count": null,
   "metadata": {},
   "outputs": [],
   "source": [
    "with open('./scenarios/chicken_test.csv', newline='') as csvfile:\n",
    "    chicken_test = np.array(list(csv.reader(csvfile))).astype(int)\n",
    "    chicken_test = parser_array2obj(chicken_test)\n",
    "\n",
    "fig = plt.figure()\n",
    "chicken_test.simulate(1, dijkstra=True)\n",
    "plt.imshow(chicken_test.get_dijkstra())\n",
    "plt.colorbar()"
   ]
  },
  {
   "cell_type": "markdown",
   "metadata": {},
   "source": [
    "Let us now simulate the chicken test again this time with the dikstra's algorithm"
   ]
  },
  {
   "cell_type": "code",
   "execution_count": null,
   "metadata": {},
   "outputs": [],
   "source": [
    "chicken_test.simulate(25, dijkstra=True)\n",
    "chicken_test.animate()"
   ]
  },
  {
   "cell_type": "markdown",
   "metadata": {},
   "source": [
    "# Task 5: Integration Testing - RiMEA Scenarios"
   ]
  },
  {
   "cell_type": "markdown",
   "metadata": {},
   "source": [
    "### RiMEA 1\n",
    "In this test we need to assess if the speed at which a certain pedestrian walks towards the target translates to an accurate simulation time. the scenario is a 40m by 10m corridor. We model each cell as 0.4m and the pedestrian as 0.4m as well so that the pedestrian occupipes 1 cell. \n",
    "\n",
    "We first visualize the scenario as always."
   ]
  },
  {
   "cell_type": "code",
   "execution_count": null,
   "metadata": {
    "scrolled": false
   },
   "outputs": [],
   "source": [
    "with open('./scenarios/rimea_test1.csv', newline='') as csvfile:\n",
    "    rimea_1 = np.array(list(csv.reader(csvfile))).astype(int)\n",
    "    rimea_1 = parser_array2obj(rimea_1)\n",
    "    \n",
    "cell_scale_meters = 0.4\n",
    "rimea_1.set_cell_scale(cell_scale_meters)\n",
    "visualize_state(rimea_1.to_array())"
   ]
  },
  {
   "cell_type": "markdown",
   "metadata": {},
   "source": [
    "Here we can see the execution of the simulation. In order to see how much time it took for the pedestrian to move from one end to another, we can execute the same simulation with the help of the pygame GUI."
   ]
  },
  {
   "cell_type": "code",
   "execution_count": null,
   "metadata": {
    "scrolled": false
   },
   "outputs": [],
   "source": [
    "start_game_gui(rimea_1, max_steps=200, dijkstra=False, step_time=750*cell_scale_meters)"
   ]
  },
  {
   "cell_type": "markdown",
   "metadata": {},
   "source": [
    "### RiMEA 4\n",
    "\n",
    "In this scenario, many pedestrians are spread randomly in a grid based on the specified density. Since the scenario is very long (1000m x 10m) and since the pedestrians need to move perpetually we add teleportation boundary conditions such that when pedestrians come at the left end off the grid where the targets exist they are sent back to the initial cells. The scenario becomes a carousel. \n",
    "\n",
    "The densities with which the scenario is filled in pedestrians per meter square are 0.5, 1, 2, 3, 4, 5, 6.\n",
    "This means the cell size needs to be scaled again. In order to fit the largest density, we make the cell size 0.33m such that 1 meter square can cater to a maximum of 9 pedestrians. We can now reduce the size of the grid from an original of 3000 x 30 cells (1000x10 meters) to just 30 x 30 cells (10 x 10 meters)."
   ]
  },
  {
   "cell_type": "markdown",
   "metadata": {},
   "source": [
    "### Density 0.5 ped/m^2\n",
    "With a density of 0.5 pedestrians per meter, we notice that in an area of 30/3* 30/3 =  100 meters square we have 100*0.5=50 pedestrians.\n",
    "\n",
    "We fill the grid randomly with pedestrians."
   ]
  },
  {
   "cell_type": "code",
   "execution_count": null,
   "metadata": {
    "scrolled": false
   },
   "outputs": [],
   "source": [
    "with open('./scenarios/rimea_test4.csv', newline='') as csvfile:\n",
    "    rimea_4 = np.array(list(csv.reader(csvfile))).astype(int)\n",
    "    rimea_4 = parser_array2obj(rimea_4)\n",
    "\n",
    "cell_scale_meters = 0.3333\n",
    "rimea_4.set_cell_scale(0.3333)\n",
    "rimea_4.flood_pedestrians(0.5)\n",
    "visualize_state(rimea_4.to_array())"
   ]
  },
  {
   "cell_type": "markdown",
   "metadata": {},
   "source": [
    "#### Measuring Points\n",
    "\n",
    "We will set two measuring points which will record the following information:\n",
    "1. Speed of pedestrian that passed through cell.\n",
    "2. Density of pedestrians around that point when a pedestrian passed though them."
   ]
  },
  {
   "cell_type": "code",
   "execution_count": null,
   "metadata": {},
   "outputs": [],
   "source": [
    "# Actual Measuring Point\n",
    "rimea_4.add_measuring_point(15,5)\n",
    "rimea_4.add_measuring_point(15,6)\n",
    "rimea_4.add_measuring_point(16,5)\n",
    "rimea_4.add_measuring_point(16,6)\n",
    "\n",
    "# Control Point\n",
    "rimea_4.add_measuring_point(15,20)\n",
    "rimea_4.add_measuring_point(15,21)\n",
    "rimea_4.add_measuring_point(16,20)\n",
    "rimea_4.add_measuring_point(16,21)\n",
    "\n",
    "# We delete the log file incase it already exists.\n",
    "if Path(\"./logs/measuring_points_logs.csv\").exists():\n",
    "    os.remove(\"logs/measuring_points_logs.csv\")"
   ]
  },
  {
   "cell_type": "markdown",
   "metadata": {},
   "source": [
    "\n",
    "#### Boundary Conditions\n",
    "For this task we also need to implement boundary conditions as discussed above. We do this in the notebook."
   ]
  },
  {
   "cell_type": "code",
   "execution_count": null,
   "metadata": {},
   "outputs": [],
   "source": [
    "start_game_gui(rimea_4, max_steps=30, dijkstra=False, step_time=750*cell_scale_meters, periodic_boundary = True)\n",
    "\n",
    "if Path(\"./logs/measuring_points_logs.csv\").exists():\n",
    "    copyfile(\"./logs/measuring_points_logs.csv\", \"./logs/measuring_points_logs_rimea_4_density0.5.csv\")"
   ]
  },
  {
   "cell_type": "markdown",
   "metadata": {},
   "source": [
    "### Collecting Data for other densities "
   ]
  },
  {
   "cell_type": "code",
   "execution_count": null,
   "metadata": {},
   "outputs": [],
   "source": [
    "execute_rimea_4()"
   ]
  },
  {
   "cell_type": "markdown",
   "metadata": {},
   "source": [
    "### Plotting the Fundamental Diagram\n",
    "\n",
    "We plot the measured speed against the measured density for the 7 different density cases of the RiMEA 4 scenario."
   ]
  },
  {
   "cell_type": "code",
   "execution_count": null,
   "metadata": {},
   "outputs": [],
   "source": [
    "densities_arr = [\"0.5\", \"1\",\"2\", \"3\",\"4\",\"5\",\"6\"]\n",
    "densities = []\n",
    "speeds = []\n",
    "for density in densities_arr:\n",
    "    file = './logs/measuring_points_logs_rimea_4_density' + density + '.csv'\n",
    "    df_rimea_4 = pd.read_csv(file)\n",
    "    df_rimea_4 = df_rimea_4.iloc[-60:]\n",
    "    df_rimea_4 = df_rimea_4.describe()\n",
    "    speeds.append(df_rimea_4['speed'].iloc[1])\n",
    "    densities.append(df_rimea_4['density'].iloc[1])\n"
   ]
  },
  {
   "cell_type": "code",
   "execution_count": null,
   "metadata": {},
   "outputs": [],
   "source": [
    "fig, ax = plt.subplots(1,1)\n",
    "ax.plot(densities, speeds, 'o-')\n",
    "ax.set_xlabel(\"Density ped/m^2\")\n",
    "ax.set_ylabel(\"Speed m/s\")\n",
    "fig.savefig(\"./figures/fundamental_diagram.pdf\")"
   ]
  },
  {
   "cell_type": "code",
   "execution_count": null,
   "metadata": {},
   "outputs": [],
   "source": [
    "print(speeds, densities)"
   ]
  },
  {
   "cell_type": "markdown",
   "metadata": {},
   "source": [
    "### RiMEA 6\n",
    "We simulate the passage of 20 pedestrians around a corner. The pedestrians must navigate while avoiding the obstacle which in this case is the entire wall. In order to match the dimensions in the RiMEA test case, we rescale our cells such that each cell is of length 0.5 meters."
   ]
  },
  {
   "cell_type": "code",
   "execution_count": null,
   "metadata": {},
   "outputs": [],
   "source": [
    "with open('./scenarios/rimea_test6.csv', newline='') as csvfile:\n",
    "    rimea_6 = np.array(list(csv.reader(csvfile))).astype(int)\n",
    "    rimea_6 = parser_array2obj(rimea_6)\n",
    "    \n",
    "cell_scale_meters = 0.5\n",
    "visualize_state(rimea_6.to_array())"
   ]
  },
  {
   "cell_type": "markdown",
   "metadata": {},
   "source": [
    "We can observe that the pedestrians can easily navigate around the corner and can also observe the repulsion between pedestrians."
   ]
  },
  {
   "cell_type": "code",
   "execution_count": null,
   "metadata": {},
   "outputs": [],
   "source": [
    "rimea_6.simulate(35)\n",
    "rimea_6.animate()"
   ]
  },
  {
   "cell_type": "markdown",
   "metadata": {},
   "source": [
    "### RiMEA 7\n",
    "\n",
    "We used some data points from the Figure 2 of the RiMEA guidelines and then used cubic spline interpolation to generate a function that takes the age of the pedestrian as an input and outputs the speed based on the distribtution. We use this function to instantiate 50 pedestrians of random ages and their corresponding speeds and see if we can generate the same distribution as given in the RiMEA guidelines."
   ]
  },
  {
   "cell_type": "code",
   "execution_count": null,
   "metadata": {
    "scrolled": false
   },
   "outputs": [],
   "source": [
    "with open('./scenarios/rimea_test7.csv', newline='') as csvfile:\n",
    "    rimea_7 = np.array(list(csv.reader(csvfile))).astype(int)\n",
    "    rimea_7 = parser_array2obj(rimea_7)\n",
    "    \n",
    "rimea_7.flood_pedestrians(0.111, distributed_speed=True)\n",
    "visualize_state(rimea_7.to_array())"
   ]
  },
  {
   "cell_type": "code",
   "execution_count": null,
   "metadata": {},
   "outputs": [],
   "source": [
    "# Measuring Points\n",
    "rimea_7.add_measuring_point(0,10)\n",
    "rimea_7.add_measuring_point(1,10)\n",
    "rimea_7.add_measuring_point(2,10)\n",
    "rimea_7.add_measuring_point(0,40)\n",
    "rimea_7.add_measuring_point(1,40)\n",
    "rimea_7.add_measuring_point(2,100)\n",
    "rimea_7.add_measuring_point(0,100)\n",
    "rimea_7.add_measuring_point(1,100)\n",
    "rimea_7.add_measuring_point(2,100)\n",
    "# We delete the log file incase it already exists.\n",
    "if Path(\"./logs/measuring_points_logs.csv\").exists():\n",
    "    os.remove(\"logs/measuring_points_logs.csv\")\n",
    "    \n",
    "start_game_gui(rimea_7, max_steps=100, dijkstra=False, step_time=1000, periodic_boundary = False, constant_speed = False)\n",
    "\n",
    "if Path(\"./logs/measuring_points_logs.csv\").exists():\n",
    "    copyfile(\"./logs/measuring_points_logs.csv\", \"./logs/measuring_points_logs_rimea_7.csv\")"
   ]
  },
  {
   "cell_type": "code",
   "execution_count": null,
   "metadata": {
    "scrolled": false
   },
   "outputs": [],
   "source": [
    "file = './logs/measuring_points_logs_rimea_7.csv'\n",
    "if Path(file).exists():\n",
    "    df_rimea_7 = pd.read_csv(file)\n",
    "    df_rimea_7\n",
    "    fig, ax = plt.subplots(1,1)\n",
    "    ax.scatter(df_rimea_7.Pedestrian_Age, df_rimea_7.speed)\n",
    "    ax.set_xlabel(\"Age of Pedestrians\")\n",
    "    ax.set_ylabel(\"Speed of Pedestrians m/s\")\n",
    "    fig.savefig(\"./figures/age_vs_speed.pdf\")\n",
    "else:\n",
    "    print(f\"logs file {file} does not exist. Run the previous steps first\")"
   ]
  },
  {
   "cell_type": "code",
   "execution_count": null,
   "metadata": {},
   "outputs": [],
   "source": []
  }
 ],
 "metadata": {
  "kernelspec": {
   "display_name": "Python 3",
   "language": "python",
   "name": "python3"
  },
  "language_info": {
   "codemirror_mode": {
    "name": "ipython",
    "version": 3
   },
   "file_extension": ".py",
   "mimetype": "text/x-python",
   "name": "python",
   "nbconvert_exporter": "python",
   "pygments_lexer": "ipython3",
   "version": "3.8.5"
  }
 },
 "nbformat": 4,
 "nbformat_minor": 5
}
