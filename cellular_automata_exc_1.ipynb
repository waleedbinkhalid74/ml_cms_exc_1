{
 "cells": [
  {
   "cell_type": "markdown",
   "metadata": {},
   "source": [
    "# Machine Learning in Crowd Modelling and Simulation"
   ]
  },
  {
   "cell_type": "markdown",
   "metadata": {},
   "source": [
    "In this task we implement a crowd simulation model using the cellular automata approach.\n",
    "Our implementation can be run either by loading saved scenario files which are based on csv files or by the user detailing their own scenario.\n",
    "\n",
    "Before moving ahead we import the key packages. It is best to install the required packages as detailed in the\n",
    "`README.md` file with the help of the provided `requirements.txt` file."
   ]
  },
  {
   "cell_type": "code",
   "execution_count": 1,
   "metadata": {},
   "outputs": [],
   "source": [
    "import numpy as np\n",
    "import matplotlib.pyplot as plt\n",
    "from visualization import visualize_state\n",
    "from utilities import scenario_loader, scenario_builder\n",
    "import csv\n",
    "from utilities import parser_array2obj\n",
    "%reload_ext autoreload\n",
    "%autoreload 2"
   ]
  },
  {
   "cell_type": "markdown",
   "metadata": {},
   "source": [
    "\n",
    "## Task 1\n",
    "\n",
    "We will implement the basics of our environment and show the outlook in this section. Here the user has two options\n",
    "\n",
    "### Option 1: Load scenario\n",
    "If you wish to load a scenario then type y in the following cell block. A list of available scenarios will be printed. Enter the id number of the scenario you wish to load and this will be loaded into a variable.\n",
    "\n",
    "\n",
    "### Option 2: Make customer scenario\n",
    "If you wish to make own scenario then type n in the following cell block. You will be asked for the size of the grid you wish to generate. Enter the row and column numbers. Finally a GUI will pop up. You can make a scenario there. Type in `P` to add a pedestrian, `O` for object and `T` for target. Please note all of these need to be in **upper case**. If you wish for a cell to remain empty you can leave it as it is. Once you are finished simply close the GUI. The scenario will be saved in a variable for further processing. "
   ]
  },
  {
   "cell_type": "code",
   "execution_count": 2,
   "metadata": {},
   "outputs": [
    {
     "name": "stdout",
     "output_type": "stream",
     "text": [
      "Do you want to load a scenario? (y/n)n\n",
      "Enter the size of the grid in the format: rows, columns: 5,5\n"
     ]
    },
    {
     "data": {
      "image/png": "[encoded data removed]",
      "text/plain": [
       "<Figure size 720x720 with 1 Axes>"
      ]
     },
     "metadata": {
      "needs_background": "light"
     },
     "output_type": "display_data"
    }
   ],
   "source": [
    "load_scenario_bool = input(\"Do you want to load a scenario? (y/n)\")\n",
    "    # Case if the user wishes to load a scenario saved in the scenario directory.\n",
    "if load_scenario_bool == 'y':\n",
    "    scenario = scenario_loader()\n",
    "elif load_scenario_bool == 'n':\n",
    "    scenario = scenario_builder()\n",
    "else:\n",
    "    print(\"Incorrect input. Please try again.\")"
   ]
  },
  {
   "cell_type": "markdown",
   "metadata": {},
   "source": [
    "## Task 2"
   ]
  },
  {
   "cell_type": "markdown",
   "metadata": {},
   "source": [
    "### Initial Visualization of scenario for Task 2"
   ]
  },
  {
   "cell_type": "code",
   "execution_count": 3,
   "metadata": {},
   "outputs": [
    {
     "name": "stdout",
     "output_type": "stream",
     "text": [
      "1 2 0 0 1 \n",
      "0 0 0 0 0 \n",
      "1 0 0 0 0 \n",
      "0 0 0 0 0 \n",
      "0 0 0 0 3 \n",
      "\n",
      "Ped 1: 0 + 0, 0 + 0\n",
      "Ped 2: 0 + 0, 4 + 0\n",
      "Ped 3: 2 + 0, 0 + 0\n",
      "\n",
      "\n",
      "1 2 0 0 0 \n",
      "0 0 0 0 1 \n",
      "1 0 0 0 0 \n",
      "0 0 0 0 0 \n",
      "0 0 0 0 3 \n",
      "\n",
      "Ped 1: 0 + 0.7, 0 + 0.7\n",
      "Ped 2: 1 + 0, 4 + 0\n",
      "Ped 3: 2 + 0.7, 0 + 0.7\n",
      "\n",
      "\n",
      "0 2 0 0 0 \n",
      "0 1 0 0 0 \n",
      "0 0 0 0 1 \n",
      "0 1 0 0 0 \n",
      "0 0 0 0 3 \n",
      "\n",
      "Ped 1: 1 + 0.3999999999999999, 1 + 0.3999999999999999\n",
      "Ped 2: 2 + 0, 4 + 0\n",
      "Ped 3: 3 + 0.3999999999999999, 1 + 0.3999999999999999\n"
     ]
    }
   ],
   "source": [
    "print(scenario)\n",
    "for ped in scenario.pedestrians:\n",
    "    print(f\"Ped {ped.id}: {ped.cell.row} + {ped.row}, {ped.cell.col} + {ped.col}\")\n",
    "scenario.update_grid()\n",
    "print(\"\\n\")\n",
    "print(scenario)\n",
    "for ped in scenario.pedestrians:\n",
    "    print(f\"Ped {ped.id}: {ped.cell.row} + {ped.row}, {ped.cell.col} + {ped.col}\")\n",
    "scenario.update_grid()\n",
    "print(\"\\n\")\n",
    "print(scenario)\n",
    "for ped in scenario.pedestrians:\n",
    "    print(f\"Ped {ped.id}: {ped.cell.row} + {ped.row}, {ped.cell.col} + {ped.col}\")\n",
    "scenario.update_grid()"
   ]
  },
  {
   "cell_type": "markdown",
   "metadata": {},
   "source": [
    "## Task 3"
   ]
  },
  {
   "cell_type": "markdown",
   "metadata": {},
   "source": [
    "## Task 4"
   ]
  },
  {
   "cell_type": "markdown",
   "metadata": {},
   "source": [
    "### The Dijkstra's Algorithm\n",
    "We implement the Dijkstra's algorithm to flood the cells with utilitiy values starting from the targets i.e. targets have a cost of 0. \n",
    "\n",
    "This allows a kind of look ahead when we simulate our pedestrians since now we have also taken into account the obsticals. Essentially the entire grid is treated as a well connected bi-directional graph instead of the points where the obsticals exist. These cells are treated as unconnected nodes on the graph. \n",
    "\n",
    "We can show the result of the chicken test with the help of a color map."
   ]
  },
  {
   "cell_type": "code",
   "execution_count": null,
   "metadata": {},
   "outputs": [],
   "source": [
    "with open('./scenarios/chicken_test.csv', newline='') as csvfile:\n",
    "    chicken_test = np.array(list(csv.reader(csvfile))).astype(int)\n",
    "    chicken_test = parser_array2obj(chicken_test)\n",
    "\n",
    "chicken_test.flood_dijkstra()\n",
    "plt.imshow(chicken_test.get_dijkstra())\n",
    "plt.colorbar()"
   ]
  },
  {
   "cell_type": "markdown",
   "metadata": {},
   "source": [
    "## Task 5"
   ]
  },
  {
   "cell_type": "code",
   "execution_count": null,
   "metadata": {},
   "outputs": [],
   "source": [
    "### RiMEA 1"
   ]
  },
  {
   "cell_type": "code",
   "execution_count": null,
   "metadata": {},
   "outputs": [],
   "source": []
  }
 ],
 "metadata": {
  "kernelspec": {
   "display_name": "Python 3",
   "language": "python",
   "name": "python3"
  },
  "language_info": {
   "codemirror_mode": {
    "name": "ipython",
    "version": 3
   },
   "file_extension": ".py",
   "mimetype": "text/x-python",
   "name": "python",
   "nbconvert_exporter": "python",
   "pygments_lexer": "ipython3",
   "version": "3.8.5"
  }
 },
 "nbformat": 4,
 "nbformat_minor": 5
}
