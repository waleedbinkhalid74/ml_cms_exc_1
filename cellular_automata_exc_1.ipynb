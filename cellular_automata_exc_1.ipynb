{
 "cells": [
  {
   "cell_type": "markdown",
   "metadata": {},
   "source": [
    "# Machine Learning in Crowd Modelling and Simulation"
   ]
  },
  {
   "cell_type": "markdown",
   "metadata": {},
   "source": [
    "In this task we implement a crowd simulation model using the cellular automata approach.\n",
    "Our implementation can be run either by loading saved scenario files which are based on csv files or by the user detailing their own scenario.\n",
    "\n",
    "Before moving ahead we import the key packages. It is best to install the required packages as detailed in the\n",
    "`README.md` file with the help of the provided `requirements.txt` file."
   ]
  },
  {
   "cell_type": "code",
   "execution_count": 9,
   "metadata": {},
   "outputs": [],
   "source": [
    "import numpy as np\n",
    "import matplotlib.pyplot as plt\n",
    "from utilities import scenario_loader, scenario_builder\n",
    "import csv\n",
    "from utilities import parser_array2obj\n",
    "from IPython.display import HTML\n",
    "import pygame\n",
    "import game_gui\n",
    "\n",
    "YELLOW = '\\033[93m'\n",
    "ENDC = '\\033[0m'\n",
    "\n",
    "%reload_ext autoreload\n",
    "%autoreload 2"
   ]
  },
  {
   "cell_type": "markdown",
   "metadata": {},
   "source": [
    "\n",
    "## Task 1\n",
    "\n",
    "We will implement the basics of our environment and show the outlook in this section. Here the user has two options\n",
    "\n",
    "### Option 1: Load scenario\n",
    "If you wish to load a scenario then type y in the following cell block. A list of available scenarios will be printed. Enter the id number of the scenario you wish to load and this will be loaded into a variable.\n",
    "\n",
    "\n",
    "### Option 2: Make customer scenario\n",
    "If you wish to make own scenario then type n in the following cell block. You will be asked for the size of the grid you wish to generate. Enter the row and column numbers. Finally a GUI will pop up. You can make a scenario there. Type in `P` to add a pedestrian, `O` for object and `T` for target. Please note all of these need to be in **upper case**. If you wish for a cell to remain empty you can leave it as it is. Once you are finished simply close the GUI. The scenario will be saved in a variable for further processing. \n",
    "\n",
    "**The initial state of the loaded/created scenario will be displayed.**"
   ]
  },
  {
   "cell_type": "code",
   "execution_count": 11,
   "metadata": {},
   "outputs": [
    {
     "name": "stdout",
     "output_type": "stream",
     "text": [
      "\u001b[93m Leave answers empty for default \u001b[0m\n",
      "Do you want to load a scenario? (y/n)\n",
      "Enter the size of the grid in the format: rows, columns: 50,50\n",
      "Would you like to use Dijkstra-algorithm? (y/n)\n",
      "Maximum number of steps: (Positive integer)\n",
      "Simulation done. Time = 21849    steps = 43\n"
     ]
    }
   ],
   "source": [
    "print(f\"{YELLOW} Leave answers empty for default {ENDC}\")\n",
    "load_scenario_bool = input(\"Do you want to load a scenario? (y/n)\")\n",
    "    # Case if the user wishes to load a scenario saved in the scenario directory.\n",
    "if load_scenario_bool == 'y':\n",
    "    scenario = scenario_loader()\n",
    "elif load_scenario_bool == 'n':\n",
    "    scenario = scenario_builder()\n",
    "else:\n",
    "    scenario = scenario_builder()\n",
    "#     assert False, \"Incorrect input. Answer must be 'y' or 'n'. Please try again.\"\n",
    "    \n",
    "load_scenario_bool = input(\"Would you like to use Dijkstra-algorithm? (y/n)\")\n",
    "if load_scenario_bool == 'y':\n",
    "    dijkstra = True\n",
    "elif load_scenario_bool == 'n':\n",
    "    dijkstra = False\n",
    "else:\n",
    "    dijkstra = False\n",
    "#     assert False, \"Incorrect input. Answer must be 'y' or 'n'. Please try again.\"\n",
    "    \n",
    "max_steps = input(\"Maximum number of steps: (Positive integer)\")\n",
    "    # Case if the user wishes to load a scenario saved in the scenario directory.\n",
    "if max_steps.isdigit() and int(max_steps) >= 0:\n",
    "    max_steps = int(max_steps)\n",
    "else:\n",
    "    max_steps = 100\n",
    "#     assert False, \"Incorrect input. Answer must be a positive integer. Please try again.\"\n",
    "\n",
    "game_gui.start_game_gui(scenario, max_steps=max_steps, dijkstra=dijkstra)"
   ]
  },
  {
   "cell_type": "markdown",
   "metadata": {},
   "source": [
    "## Task 2"
   ]
  },
  {
   "cell_type": "markdown",
   "metadata": {},
   "source": [
    "### The simulation\n",
    "We will now simulate the loaded scenario with our simple update step i.e. rudementary obstical avoidance and pedestrian repulsion.\n",
    "The results will be visualized with the help of a matplotlib animation."
   ]
  },
  {
   "cell_type": "code",
   "execution_count": 12,
   "metadata": {},
   "outputs": [],
   "source": [
    "states = scenario.simulate(25)\n"
   ]
  },
  {
   "cell_type": "code",
   "execution_count": 13,
   "metadata": {},
   "outputs": [
    {
     "data": {
      "image/png": "[encoded data removed]",
      "text/plain": [
       "<Figure size 360x360 with 1 Axes>"
      ]
     },
     "metadata": {
      "needs_background": "light"
     },
     "output_type": "display_data"
    }
   ],
   "source": [
    "a = scenario.animate()\n",
    "# print(a)"
   ]
  },
  {
   "cell_type": "markdown",
   "metadata": {},
   "source": [
    "## Task 3"
   ]
  },
  {
   "cell_type": "markdown",
   "metadata": {},
   "source": [
    "## Task 4"
   ]
  },
  {
   "cell_type": "markdown",
   "metadata": {},
   "source": [
    "### The Dijkstra's Algorithm\n",
    "We implement the Dijkstra's algorithm to flood the cells with utilitiy values starting from the targets i.e. targets have a cost of 0. \n",
    "\n",
    "This allows a kind of look ahead when we simulate our pedestrians since now we have also taken into account the obsticals. Essentially the entire grid is treated as a well connected bi-directional graph instead of the points where the obsticals exist. These cells are treated as unconnected nodes on the graph. This is shown below:\n",
    "\n",
    "<table>\n",
    "  <tr>\n",
    "    <td><img src=\"./figures/fully_connected.png\" width=270 height=480></td>\n",
    "    <td><img src=\"./figures/graph_with_obj.png\" width=270 height=480></td>\n",
    "  </tr>\n",
    "      <tr>\n",
    "    <td>Fully Connected Bi-Directional Graph</td>\n",
    "     <td>Bi-directional Graph with Obstacle </td>\n",
    "  </tr>\n",
    " </table>\n",
    " \n",
    "We can show the result of the chicken test with the help of a color map."
   ]
  },
  {
   "cell_type": "code",
   "execution_count": 14,
   "metadata": {},
   "outputs": [
    {
     "data": {
      "text/plain": [
       "<matplotlib.colorbar.Colorbar at 0x1d63eb1e3a0>"
      ]
     },
     "execution_count": 14,
     "metadata": {},
     "output_type": "execute_result"
    },
    {
     "data": {
      "image/png": "[encoded data removed]",
      "text/plain": [
       "<Figure size 432x288 with 2 Axes>"
      ]
     },
     "metadata": {
      "needs_background": "light"
     },
     "output_type": "display_data"
    }
   ],
   "source": [
    "with open('./scenarios/multiple_targets.csv', newline='') as csvfile:\n",
    "    chicken_test = np.array(list(csv.reader(csvfile))).astype(int)\n",
    "    chicken_test = parser_array2obj(chicken_test)\n",
    "\n",
    "plt.imshow(chicken_test.get_dijkstra())\n",
    "plt.colorbar()"
   ]
  },
  {
   "cell_type": "markdown",
   "metadata": {},
   "source": [
    "## Task 5"
   ]
  },
  {
   "cell_type": "code",
   "execution_count": null,
   "metadata": {},
   "outputs": [],
   "source": [
    "### RiMEA 1"
   ]
  }
 ],
 "metadata": {
  "kernelspec": {
   "display_name": "Python 3",
   "language": "python",
   "name": "python3"
  },
  "language_info": {
   "codemirror_mode": {
    "name": "ipython",
    "version": 3
   },
   "file_extension": ".py",
   "mimetype": "text/x-python",
   "name": "python",
   "nbconvert_exporter": "python",
   "pygments_lexer": "ipython3",
   "version": "3.8.5"
  }
 },
 "nbformat": 4,
 "nbformat_minor": 5
}
